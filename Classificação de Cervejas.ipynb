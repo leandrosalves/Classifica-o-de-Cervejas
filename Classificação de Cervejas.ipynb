{
 "cells": [
  {
   "cell_type": "code",
   "execution_count": 1,
   "metadata": {},
   "outputs": [
    {
     "name": "stderr",
     "output_type": "stream",
     "text": [
      "C:\\Users\\leand\\Anaconda3\\lib\\site-packages\\sklearn\\cross_validation.py:41: DeprecationWarning: This module was deprecated in version 0.18 in favor of the model_selection module into which all the refactored classes and functions are moved. Also note that the interface of the new CV iterators are different from that of this module. This module will be removed in 0.20.\n",
      "  \"This module will be removed in 0.20.\", DeprecationWarning)\n"
     ]
    }
   ],
   "source": [
    "import pandas as pd\n",
    "import numpy as np\n",
    "from sklearn.cross_validation import train_test_split\n",
    "from sklearn import svm\n",
    "from sklearn.tree import DecisionTreeClassifier\n",
    "from sklearn.metrics import f1_score\n",
    "from sklearn.neighbors import KNeighborsClassifier\n",
    "from sklearn.svm import SVC\n",
    "from sklearn.ensemble import RandomForestClassifier\n",
    "from sklearn.naive_bayes import GaussianNB\n",
    "import matplotlib.pyplot as plt\n",
    "import time\n",
    "from sklearn.metrics import accuracy_score"
   ]
  },
  {
   "cell_type": "code",
   "execution_count": 2,
   "metadata": {},
   "outputs": [
    {
     "name": "stdout",
     "output_type": "stream",
     "text": [
      "Arquivo carregado com sucesso! 14512 linhas carregadas.\n"
     ]
    }
   ],
   "source": [
    "beer = pd.DataFrame(pd.read_csv(\"beerData.csv\"), \n",
    "                                   columns=['Style','Size(L)','OG','FG','ABV','IBU',\n",
    "                                            'Color','BoilSize','BoilTime'])\n",
    "\n",
    "n_beer = beer.shape[0]\n",
    "\n",
    "## Código dos estilos de Cervejas\n",
    "## 2 - American Amber Ale\n",
    "## 3 - American Light Lager\n",
    "## 4 - American Pale Ale\n",
    "## 5 - Saison\n",
    "\n",
    "## Size(L) - Tamanho em Litros\n",
    "## OG - Densidade Inicial \n",
    "## FG - Densidade Final\n",
    "## ABV - Graduação Alcoólica\n",
    "## IBU - Amargor\n",
    "## Color - Cor\n",
    "## BoilSize - Volume no momento da fevura\n",
    "## BoilTime - Tempo de Fervura\n",
    "\n",
    "print(\"Arquivo carregado com sucesso! {} linhas carregadas.\".format(n_beer))"
   ]
  },
  {
   "cell_type": "code",
   "execution_count": 18,
   "metadata": {},
   "outputs": [
    {
     "data": {
      "text/html": [
       "<div>\n",
       "<style>\n",
       "    .dataframe thead tr:only-child th {\n",
       "        text-align: right;\n",
       "    }\n",
       "\n",
       "    .dataframe thead th {\n",
       "        text-align: left;\n",
       "    }\n",
       "\n",
       "    .dataframe tbody tr th {\n",
       "        vertical-align: top;\n",
       "    }\n",
       "</style>\n",
       "<table border=\"1\" class=\"dataframe\">\n",
       "  <thead>\n",
       "    <tr style=\"text-align: right;\">\n",
       "      <th></th>\n",
       "      <th>Style</th>\n",
       "      <th>Size(L)</th>\n",
       "      <th>OG</th>\n",
       "      <th>FG</th>\n",
       "      <th>ABV</th>\n",
       "      <th>IBU</th>\n",
       "      <th>Color</th>\n",
       "      <th>BoilSize</th>\n",
       "      <th>BoilTime</th>\n",
       "    </tr>\n",
       "  </thead>\n",
       "  <tbody>\n",
       "    <tr>\n",
       "      <th>0</th>\n",
       "      <td>4</td>\n",
       "      <td>24.61</td>\n",
       "      <td>1.055</td>\n",
       "      <td>1.013</td>\n",
       "      <td>5.58</td>\n",
       "      <td>40.12</td>\n",
       "      <td>8.00</td>\n",
       "      <td>29.34</td>\n",
       "      <td>70</td>\n",
       "    </tr>\n",
       "    <tr>\n",
       "      <th>1</th>\n",
       "      <td>5</td>\n",
       "      <td>20.82</td>\n",
       "      <td>1.073</td>\n",
       "      <td>1.015</td>\n",
       "      <td>7.63</td>\n",
       "      <td>44.94</td>\n",
       "      <td>6.25</td>\n",
       "      <td>28.39</td>\n",
       "      <td>60</td>\n",
       "    </tr>\n",
       "    <tr>\n",
       "      <th>2</th>\n",
       "      <td>5</td>\n",
       "      <td>18.93</td>\n",
       "      <td>1.082</td>\n",
       "      <td>1.013</td>\n",
       "      <td>9.10</td>\n",
       "      <td>0.00</td>\n",
       "      <td>4.10</td>\n",
       "      <td>21.58</td>\n",
       "      <td>60</td>\n",
       "    </tr>\n",
       "    <tr>\n",
       "      <th>3</th>\n",
       "      <td>4</td>\n",
       "      <td>18.93</td>\n",
       "      <td>1.067</td>\n",
       "      <td>1.017</td>\n",
       "      <td>6.60</td>\n",
       "      <td>0.00</td>\n",
       "      <td>11.69</td>\n",
       "      <td>18.93</td>\n",
       "      <td>60</td>\n",
       "    </tr>\n",
       "    <tr>\n",
       "      <th>4</th>\n",
       "      <td>4</td>\n",
       "      <td>20.82</td>\n",
       "      <td>1.049</td>\n",
       "      <td>1.009</td>\n",
       "      <td>5.24</td>\n",
       "      <td>40.86</td>\n",
       "      <td>3.79</td>\n",
       "      <td>26.50</td>\n",
       "      <td>60</td>\n",
       "    </tr>\n",
       "    <tr>\n",
       "      <th>5</th>\n",
       "      <td>2</td>\n",
       "      <td>18.93</td>\n",
       "      <td>1.075</td>\n",
       "      <td>1.009</td>\n",
       "      <td>7.50</td>\n",
       "      <td>0.00</td>\n",
       "      <td>8.48</td>\n",
       "      <td>22.71</td>\n",
       "      <td>90</td>\n",
       "    </tr>\n",
       "    <tr>\n",
       "      <th>6</th>\n",
       "      <td>2</td>\n",
       "      <td>20.82</td>\n",
       "      <td>1.060</td>\n",
       "      <td>1.016</td>\n",
       "      <td>5.71</td>\n",
       "      <td>17.56</td>\n",
       "      <td>29.60</td>\n",
       "      <td>27.44</td>\n",
       "      <td>60</td>\n",
       "    </tr>\n",
       "    <tr>\n",
       "      <th>7</th>\n",
       "      <td>5</td>\n",
       "      <td>20.82</td>\n",
       "      <td>1.072</td>\n",
       "      <td>1.013</td>\n",
       "      <td>7.66</td>\n",
       "      <td>31.43</td>\n",
       "      <td>6.24</td>\n",
       "      <td>26.50</td>\n",
       "      <td>60</td>\n",
       "    </tr>\n",
       "    <tr>\n",
       "      <th>8</th>\n",
       "      <td>4</td>\n",
       "      <td>5.00</td>\n",
       "      <td>1.054</td>\n",
       "      <td>1.011</td>\n",
       "      <td>5.61</td>\n",
       "      <td>40.55</td>\n",
       "      <td>5.66</td>\n",
       "      <td>7.00</td>\n",
       "      <td>60</td>\n",
       "    </tr>\n",
       "    <tr>\n",
       "      <th>9</th>\n",
       "      <td>5</td>\n",
       "      <td>3.79</td>\n",
       "      <td>1.056</td>\n",
       "      <td>1.012</td>\n",
       "      <td>5.73</td>\n",
       "      <td>26.51</td>\n",
       "      <td>9.94</td>\n",
       "      <td>4.73</td>\n",
       "      <td>60</td>\n",
       "    </tr>\n",
       "  </tbody>\n",
       "</table>\n",
       "</div>"
      ],
      "text/plain": [
       "   Style  Size(L)     OG     FG   ABV    IBU  Color  BoilSize  BoilTime\n",
       "0      4    24.61  1.055  1.013  5.58  40.12   8.00     29.34        70\n",
       "1      5    20.82  1.073  1.015  7.63  44.94   6.25     28.39        60\n",
       "2      5    18.93  1.082  1.013  9.10   0.00   4.10     21.58        60\n",
       "3      4    18.93  1.067  1.017  6.60   0.00  11.69     18.93        60\n",
       "4      4    20.82  1.049  1.009  5.24  40.86   3.79     26.50        60\n",
       "5      2    18.93  1.075  1.009  7.50   0.00   8.48     22.71        90\n",
       "6      2    20.82  1.060  1.016  5.71  17.56  29.60     27.44        60\n",
       "7      5    20.82  1.072  1.013  7.66  31.43   6.24     26.50        60\n",
       "8      4     5.00  1.054  1.011  5.61  40.55   5.66      7.00        60\n",
       "9      5     3.79  1.056  1.012  5.73  26.51   9.94      4.73        60"
      ]
     },
     "execution_count": 18,
     "metadata": {},
     "output_type": "execute_result"
    }
   ],
   "source": [
    "beer.head(10)"
   ]
  },
  {
   "cell_type": "code",
   "execution_count": 3,
   "metadata": {},
   "outputs": [
    {
     "name": "stdout",
     "output_type": "stream",
     "text": [
      "Colunas features: ['Size(L)', 'OG', 'FG', 'ABV', 'IBU', 'Color', 'BoilSize', 'BoilTime']\n",
      "Coluna farget: Style\n",
      "   Size(L)     OG     FG   ABV    IBU  Color  BoilSize  BoilTime\n",
      "0    24.61  1.055  1.013  5.58  40.12   8.00     29.34        70\n",
      "1    20.82  1.073  1.015  7.63  44.94   6.25     28.39        60\n",
      "2    18.93  1.082  1.013  9.10   0.00   4.10     21.58        60\n",
      "3    18.93  1.067  1.017  6.60   0.00  11.69     18.93        60\n",
      "4    20.82  1.049  1.009  5.24  40.86   3.79     26.50        60\n"
     ]
    }
   ],
   "source": [
    "#Definindo as colunas feature(X) e target (y)\n",
    "features_col = list(beer.columns[1:12])\n",
    "target_col = beer.columns[0]\n",
    "print(\"Colunas features: {}\".format(features_col))\n",
    "print(\"Coluna farget: {}\".format(target_col))\n",
    "\n",
    "X_all = beer[features_col]\n",
    "y_all = beer[target_col]\n",
    "\n",
    "print(X_all.head())"
   ]
  },
  {
   "cell_type": "code",
   "execution_count": 4,
   "metadata": {
    "collapsed": true
   },
   "outputs": [],
   "source": [
    "#Definindo o tamanho da base que será destinada para treino e efetuando o treino\n",
    "X_train, X_test, y_train, y_test = train_test_split(X_all, y_all, train_size=0.7)"
   ]
  },
  {
   "cell_type": "code",
   "execution_count": 5,
   "metadata": {},
   "outputs": [
    {
     "name": "stdout",
     "output_type": "stream",
     "text": [
      "Treinando DecisionTreeClassifier...\n",
      "Feito!\n",
      "Treinado em 0.094 (secs)\n"
     ]
    }
   ],
   "source": [
    "# Treinando o modelo DecisionTreeClassifier\n",
    "\n",
    "def train_classifier(clf, X_train, y_train):\n",
    "    print(\"Treinando {}...\".format(clf.__class__.__name__))\n",
    "    start = time.time()\n",
    "    clf.fit(X_train, y_train)\n",
    "    end = time.time()\n",
    "    print(\"Feito!\\nTreinado em {:.3f} (secs)\".format(end - start))\n",
    "    #return end - start\n",
    "\n",
    "clf = DecisionTreeClassifier()\n",
    "\n",
    "# Treinando o modelo\n",
    "train_classifier(clf, X_train, y_train)"
   ]
  },
  {
   "cell_type": "code",
   "execution_count": 6,
   "metadata": {},
   "outputs": [
    {
     "name": "stdout",
     "output_type": "stream",
     "text": [
      "Prevendo utilizando DecisionTreeClassifier.\n",
      "Feito!\n",
      "A previsão demorou 0.000 (secs).\n",
      "F1 score para o treinamento foi: 1.0\n"
     ]
    }
   ],
   "source": [
    "# Prevendo e calculando a F1 score\n",
    "# A F-score é uma medida de precisão de um teste. Quanto mais próximo de 1 melhor e quanto mais perto de 0 pior.\n",
    "\n",
    "def predict_labels(clf, features, target):\n",
    "    print(\"Prevendo utilizando {}.\".format(clf.__class__.__name__))\n",
    "    start = time.time()\n",
    "    y_pred = clf.predict(features)\n",
    "    end = time.time()\n",
    "    print(\"Feito!\\nA previsão demorou {:.3f} (secs).\".format(end - start))\n",
    "    return accuracy_score(target, y_pred)\n",
    "    #return f1_score(target, y_pred, average='macro')\n",
    "\n",
    "train_f1_score = predict_labels(clf, X_train, y_train)\n",
    "print(\"F1 score para o treinamento foi: {}\".format(train_f1_score))"
   ]
  },
  {
   "cell_type": "code",
   "execution_count": 7,
   "metadata": {},
   "outputs": [
    {
     "name": "stdout",
     "output_type": "stream",
     "text": [
      "Prevendo utilizando DecisionTreeClassifier.\n",
      "Feito!\n",
      "A previsão demorou 0.000 (secs).\n",
      "F1 score for test set: 0.6005971520440974\n"
     ]
    }
   ],
   "source": [
    "# Aplicando a predição nos dados de teste\n",
    "print(\"F1 score for test set: {}\".format(predict_labels(clf, X_test, y_test)))\n"
   ]
  },
  {
   "cell_type": "code",
   "execution_count": 8,
   "metadata": {},
   "outputs": [
    {
     "name": "stdout",
     "output_type": "stream",
     "text": [
      "Treinando SVC...\n",
      "Feito!\n",
      "Treinado em 11.475 (secs)\n"
     ]
    }
   ],
   "source": [
    "# Treinando o modelo utilizando SVC()\n",
    "\n",
    "def train_classifier(clf, X_train, y_train):\n",
    "    print(\"Treinando {}...\".format(clf.__class__.__name__))\n",
    "    start = time.time()\n",
    "    clf.fit(X_train, y_train)\n",
    "    end = time.time()\n",
    "    print(\"Feito!\\nTreinado em {:.3f} (secs)\".format(end - start))\n",
    "    #return end - start\n",
    "    \n",
    "clf = SVC()\n",
    "\n",
    "# Treinando o modelo\n",
    "train_classifier(clf, X_train, y_train)"
   ]
  },
  {
   "cell_type": "code",
   "execution_count": 9,
   "metadata": {},
   "outputs": [
    {
     "name": "stdout",
     "output_type": "stream",
     "text": [
      "Prevendo utilizando SVC.\n",
      "Feito!\n",
      "A previsão demorou 3.906 (secs).\n",
      "F1 score para o treinamento foi: 0.8721204961606616\n"
     ]
    }
   ],
   "source": [
    "# Aplicando a predição e calculando a F1 score\n",
    "# A F-score é uma medida de precisão de um teste. Quanto mais próximo de 1 melhor e quanto mais perto de 0 pior.\n",
    "\n",
    "def predict_labels(clf, features, target):\n",
    "    print(\"Prevendo utilizando {}.\".format(clf.__class__.__name__))\n",
    "    start = time.time()\n",
    "    y_pred = clf.predict(features)\n",
    "    end = time.time()\n",
    "    print(\"Feito!\\nA previsão demorou {:.3f} (secs).\".format(end - start))\n",
    "    return accuracy_score(target, y_pred)\n",
    "    #return f1_score(target, y_pred, average='macro')\n",
    "\n",
    "train_f1_score = predict_labels(clf, X_train, y_train)\n",
    "print(\"F1 score para o treinamento foi: {}\".format(train_f1_score))"
   ]
  },
  {
   "cell_type": "code",
   "execution_count": 10,
   "metadata": {},
   "outputs": [
    {
     "name": "stdout",
     "output_type": "stream",
     "text": [
      "Prevendo utilizando SVC.\n",
      "Feito!\n",
      "A previsão demorou 1.678 (secs).\n",
      "F1 score for test set: 0.6139182361047313\n"
     ]
    }
   ],
   "source": [
    "# Aplicando a predição nos dados de teste\n",
    "print(\"F1 score for test set: {}\".format(predict_labels(clf, X_test, y_test)))"
   ]
  },
  {
   "cell_type": "code",
   "execution_count": 11,
   "metadata": {},
   "outputs": [
    {
     "name": "stdout",
     "output_type": "stream",
     "text": [
      "Treinando GaussianNB...\n",
      "Feito!\n",
      "Treinado em 0.016 (secs)\n"
     ]
    }
   ],
   "source": [
    "# Treinando o modelo utilizando GaussianNB\n",
    "\n",
    "def train_classifier(clf, X_train, y_train):\n",
    "    print(\"Treinando {}...\".format(clf.__class__.__name__))\n",
    "    start = time.time()\n",
    "    clf.fit(X_train, y_train)\n",
    "    end = time.time()\n",
    "    print(\"Feito!\\nTreinado em {:.3f} (secs)\".format(end - start))\n",
    "    #return end - start\n",
    "    \n",
    "clf =  GaussianNB()\n",
    "\n",
    "# Treinando o modelo\n",
    "train_classifier(clf, X_train, y_train)"
   ]
  },
  {
   "cell_type": "code",
   "execution_count": 12,
   "metadata": {},
   "outputs": [
    {
     "name": "stdout",
     "output_type": "stream",
     "text": [
      "Prevendo utilizando GaussianNB.\n",
      "Feito!\n",
      "A previsão demorou 0.016 (secs).\n",
      "F1 score para o treinamento foi: 0.580330773774365\n"
     ]
    }
   ],
   "source": [
    "# Aplicando a predição e calculando a F1 score\n",
    "# A F-score é uma medida de precisão de um teste. Quanto mais próximo de 1 melhor e quanto mais perto de 0 pior.\n",
    "\n",
    "def predict_labels(clf, features, target):\n",
    "    print(\"Prevendo utilizando {}.\".format(clf.__class__.__name__))\n",
    "    start = time.time()\n",
    "    y_pred = clf.predict(features)\n",
    "    end = time.time()\n",
    "    print(\"Feito!\\nA previsão demorou {:.3f} (secs).\".format(end - start))\n",
    "    return accuracy_score(target, y_pred)\n",
    "    #return f1_score(target, y_pred, average='macro')\n",
    "\n",
    "train_f1_score = predict_labels(clf, X_train, y_train)\n",
    "print(\"F1 score para o treinamento foi: {}\".format(train_f1_score))"
   ]
  },
  {
   "cell_type": "code",
   "execution_count": 13,
   "metadata": {},
   "outputs": [
    {
     "name": "stdout",
     "output_type": "stream",
     "text": [
      "Prevendo utilizando GaussianNB.\n",
      "Feito!\n",
      "A previsão demorou 0.005 (secs).\n",
      "F1 score for test set: 0.5716582452916859\n"
     ]
    }
   ],
   "source": [
    "# Aplicando a predição nos dados de teste\n",
    "print(\"F1 score for test set: {}\".format(predict_labels(clf, X_test, y_test)))"
   ]
  },
  {
   "cell_type": "code",
   "execution_count": null,
   "metadata": {
    "collapsed": true
   },
   "outputs": [],
   "source": []
  }
 ],
 "metadata": {
  "kernelspec": {
   "display_name": "Python 3",
   "language": "python",
   "name": "python3"
  },
  "language_info": {
   "codemirror_mode": {
    "name": "ipython",
    "version": 3
   },
   "file_extension": ".py",
   "mimetype": "text/x-python",
   "name": "python",
   "nbconvert_exporter": "python",
   "pygments_lexer": "ipython3",
   "version": "3.6.2"
  }
 },
 "nbformat": 4,
 "nbformat_minor": 2
}
